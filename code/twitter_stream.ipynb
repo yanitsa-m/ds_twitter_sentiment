{
 "cells": [
  {
   "cell_type": "markdown",
   "metadata": {},
   "source": [
    "## *Data Science Assignment: Twitter Sentiment Analysis*\n",
    "\n",
    "*Note: Python version Python 3.6.1.*\n",
    "\n",
    "### Part 1: Get a twitter stream \n",
    "Options to handle tweets: \n",
    "\n",
    "1. Save to a SQLite database (the code to generate a db file with a 'TweetsTable' is included in this script)\n",
    "2. Save to a text file (run `python twitter_stream.py > output.txt` and Ctrl+C to stop getting tweets after period of time)\n",
    "3. Save to a CSV or JSON file (I installed the DB browser for SQLite from which you can inspect the db file and export your table to a CSV or JSON file)"
   ]
  },
  {
   "cell_type": "markdown",
   "metadata": {},
   "source": [
    "\n",
    "**Tweepy** : a Python library used to access tweets from the web in real-time <br />\n",
    "**Dataset** : can be used to store the generated tweets <br />\n",
    "**SQLAlchemy** : object relational mapper (ORM) used for Python\n"
   ]
  },
  {
   "cell_type": "code",
   "execution_count": 11,
   "metadata": {
    "collapsed": true
   },
   "outputs": [],
   "source": [
    "from tweepy.streaming import StreamListener\n",
    "from tweepy import OAuthHandler\n",
    "from tweepy import Stream\n",
    "import dataset\n",
    "from sqlalchemy.exc import ProgrammingError"
   ]
  },
  {
   "cell_type": "markdown",
   "metadata": {},
   "source": [
    "-  Generate the following credentials by creating a Twitter App at https://apps.twitter.com/  <br /> \n",
    "*(See assignment1.html instructions for how to get these credentials)*\n"
   ]
  },
  {
   "cell_type": "code",
   "execution_count": 12,
   "metadata": {
    "collapsed": true
   },
   "outputs": [],
   "source": [
    " # Enter Consumer API key and Consumer secret key\n",
    "api_key =  \"tE7kic2MzTNj361GLNchkRGbC\"\n",
    "api_secret = \"apupfM1ImQ4THMvY4oosCluwfGq2jLqzd0x9Mr2NKSiBK8hXPx\"\n",
    "\n",
    "access_token_key = \"916797931721711616-QUOImq7C6mI5f22pVvBGMqfvisQPMMS\"\n",
    "access_token_secret = \"uRQG5Cgoj40B09e1oiI9oF4yvBFm6tu0m71wxlSOUTQ4u\""
   ]
  },
  {
   "cell_type": "markdown",
   "metadata": {},
   "source": [
    "-  The StreamListener class is part of the tweepy module and the class StdOutListener inherits from StreamListener.\n",
    "-  The method 'on_status' handles new tweets by printing their text (the object 'status' refers to a new tweet that is found and its metadata and attributes; use utf-8 encoding to avoid bugs on Windows).\n",
    "-  The method 'on_error' executes when an error is found and disconnects the listener object.\n"
   ]
  },
  {
   "cell_type": "code",
   "execution_count": 13,
   "metadata": {
    "collapsed": true
   },
   "outputs": [],
   "source": [
    "class StdOutListener(StreamListener):\n",
    "    \"\"\" A listener handles tweets that are received from the stream.\n",
    "    This listener can print incoming tweets to stdout.\n",
    "    It can also store the tweets into a database file.\n",
    "    \"\"\"\n",
    "    def on_status(self, status):\n",
    "        print(status.text.encode(\"utf-8\"))\n",
    "        \n",
    "        # Store attributes of tweet into a database\n",
    "        id_str = status.id_str\n",
    "        created = status.created_at\n",
    "        text = status.text\n",
    "        fav = status.favorite_count\n",
    "        name = status.user.screen_name\n",
    "        description = status.user.description\n",
    "        loc = status.user.location\n",
    "        user_created = status.user.created_at\n",
    "        followers = status.user.followers_count\n",
    "\n",
    "        table = db['TweetsTable']\n",
    "\n",
    "        try:\n",
    "            table.insert(dict(\n",
    "                id_str=id_str,\n",
    "                created=created,\n",
    "                text=text,\n",
    "                fav_count=fav,\n",
    "                user_name=name,\n",
    "                user_description=description,\n",
    "                user_location=loc,\n",
    "                user_created=user_created,\n",
    "                user_followers=followers,\n",
    "            ))\n",
    "        except ProgrammingError as err:\n",
    "            print(err)\n",
    "            return True\n",
    "\n",
    "    def on_error(self, status_code):\n",
    "        if status_code == 420:\n",
    "            return False\n",
    "        "
   ]
  },
  {
   "cell_type": "markdown",
   "metadata": {},
   "source": [
    "-  Create a SQLLite database to store the generated tweets.\n",
    "-  Create a listener object, authentication handler object, and stream object.\n",
    "-  Filter incoming tweets by keywords, location, or get all the tweets."
   ]
  },
 ,
   "source": [
    "if __name__ == '__main__':\n",
    "    db = dataset.connect(\"sqlite:///tweets.db\")\n",
    "    listener = StdOutListener()\n",
    "    auth = OAuthHandler(api_key, api_secret)\n",
    "    auth.set_access_token(access_token_key, access_token_secret)\n",
    "\n",
    "    stream = Stream(auth, listener)\n",
    "    # Filter by keywords (i.e. get tweets with word 'today'; can also list multiple strings)\n",
    "    #stream.filter(track=['today'])\n",
    "    # Filter by location (user has to have geolocation turned on)\n",
    "    #stream.filter(locations=[-180,-90,180,90])\n",
    "    # Get all tweets - default\n",
    "    stream.sample()"
   ]
  },
  {
   "cell_type": "code",
   "execution_count": null,
   "metadata": {
    "collapsed": true
   },
   "outputs": [],
   "source": []
  },
  {
   "cell_type": "code",
   "execution_count": null,
   "metadata": {
    "collapsed": true
   },
   "outputs": [],
   "source": []
  }
 ],
 "metadata": {
  "kernelspec": {
   "display_name": "Python 3",
   "language": "python",
   "name": "python3"
  },
  "language_info": {
   "codemirror_mode": {
    "name": "ipython",
    "version": 3
   },
   "file_extension": ".py",
   "mimetype": "text/x-python",
   "name": "python",
   "nbconvert_exporter": "python",
   "pygments_lexer": "ipython3",
   "version": "3.6.1"
  }
 },
 "nbformat": 4,
 "nbformat_minor": 2
}
