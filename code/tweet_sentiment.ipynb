{
 "cells": [
  {
   "cell_type": "markdown",
   "metadata": {},
   "source": [
    "## *Data Science Assignment: Twitter Sentiment Analysis*\n",
    "\n",
    "*Note: Python version Python 3.6.1.*\n",
    "\n",
    "Run script with `python tweet_sentiment.py AFINN-111.txt <tweet_file>.json`\n",
    "\n",
    "### Part 2: Derive the sentiment scores of tweets \n",
    "\n",
    "- This script output is the individual words and scores, the entire text of the tweet, and the total sentiment score of that tweet. <br />\n",
    "- The sentiments are derived from the AFINN-111 corpus of words.  Not all the words in each tweet will have a sentiment score, so if the word is not in the reference file, it is given a score of 0, otherwise the scores range from -5 (negative sentiment) to 5 (positive sentiment).\n"
   ]
  },
  {
   "cell_type": "code",
   "execution_count": 1,
   "metadata": {
    "collapsed": true
   },
   "outputs": [],
   "source": [
    "import sys\n",
    "import json\n",
    "\n",
    "# This dictionary will hold the words and sentiment scores\n",
    "scores  = {}"
   ]
  },
  {
   "cell_type": "markdown",
   "metadata": {},
   "source": [
    "-  The file AFINN-111.txt contains a list of pre-computed sentiment scores. Each line in the file contains a word or phrase followed by a sentiment score. Each word or phrase that is found in a tweet but not found in AFINN-111.txt should be given a sentiment score of 0. "
   ]
  },
  {
   "cell_type": "code",
   "execution_count": null,
   "metadata": {
    "collapsed": true
   },
   "outputs": [],
   "source": [
    "def handle_afinn(sent_file):\n",
    "    afinn_file = open(sent_file) \n",
    "    for line in afinn_file:\n",
    "        term, score  = line.split(\"\\t\")  # The file is tab-delimited. \"\\t\" means \"tab character\"\n",
    "        scores[term] = int(score)  # Convert the score to an integer.\n",
    "    return scores"
   ]
  },
  {
   "cell_type": "markdown",
   "metadata": {},
   "source": [
    "-  The tweets file is the output from part 1. I am using the JSON file to I can parse out the field containing the 'text' or the actual tweet. Note: Use explicit encoding on Windows to avoid errors when trying to read the file."
   ]
  },
  {
   "cell_type": "code",
   "execution_count": null,
   "metadata": {
    "collapsed": true
   },
   "outputs": [],
   "source": [
    "def parse_tweets(tweet_file):\n",
    "    tweets_text = [] \n",
    "    with open(tweet_file, encoding = \"utf-8\") as jsonfile:\n",
    "        data = json.load(jsonfile) \n",
    "        for d in data:  \n",
    "            tweet = d['text']\n",
    "            get_score(tweet)"
   ]
  },
  {
   "cell_type": "markdown",
   "metadata": {},
   "source": [
    "-  Check if each word in the tweet has a score in the reference file and add the separate scores.\n",
    "-  Print the tweet and the corresponding score."
   ]
  },
  {
   "cell_type": "code",
   "execution_count": null,
   "metadata": {
    "collapsed": true
   },
   "outputs": [],
   "source": [
    "def get_score(tweet):\n",
    "    list_words = tweet.split(\" \")\n",
    "    sentiment_score = 0\n",
    "    for word in list_words:\n",
    "        if word in scores: \n",
    "            print(word, scores[word])\n",
    "            sentiment_score += scores[word]\n",
    "    print(\"TWEET: \", tweet, \" \\nSCORE \" ,sentiment_score, \"\\n\")"
   ]
  },
  {
   "cell_type": "markdown",
   "metadata": {},
   "source": [
    "-  Provide the file names as command line arguments: 1) `sent_file` is the AFINN file; 2) `tweet_file` the file with tweets ( Note: must use JSON format for this script! I had difficulty parsing CSV or text file versions of the tweets due to encoding issues.)"
   ]
  },
  {
   "cell_type": "code",
   "execution_count": null,
   "metadata": {
    "collapsed": true
   },
   "outputs": [],
   "source": [
    "def main(): \n",
    "    sent_file = open(sys.argv[1])\n",
    "    tweet_file = open(sys.argv[2])\n",
    "    scores = handle_afinn(sent_file)\n",
    "    parse_tweets(tweet_file)\n",
    "    \n",
    "if __name__ == '__main__':\n",
    "    main()"
   ]
  }
 ],
 "metadata": {
  "kernelspec": {
   "display_name": "Python 3",
   "language": "python",
   "name": "python3"
  },
  "language_info": {
   "codemirror_mode": {
    "name": "ipython",
    "version": 3
   },
   "file_extension": ".py",
   "mimetype": "text/x-python",
   "name": "python",
   "nbconvert_exporter": "python",
   "pygments_lexer": "ipython3",
   "version": "3.6.1"
  }
 },
 "nbformat": 4,
 "nbformat_minor": 2
}
